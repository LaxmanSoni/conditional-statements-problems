{
 "cells": [
  {
   "cell_type": "code",
   "execution_count": 26,
   "id": "d7951ef7",
   "metadata": {},
   "outputs": [
    {
     "name": "stdout",
     "output_type": "stream",
     "text": [
      "Enter a strong password: 6543645\n",
      "Weak\n"
     ]
    }
   ],
   "source": [
    "# Problem: Password Strength Checker\n",
    "\n",
    "# Create a program that prompts the user to enter a password. Check the password strength based on the following criteria:\n",
    "\n",
    "# Weak: Less than 8 characters\n",
    "# Medium: 8 to 12 characters\n",
    "# Strong: More than 12 characters\n",
    "\n",
    "\n",
    "user_input = input(\"Enter a strong password: \")\n",
    "\n",
    "if len(user_input) <= 8:\n",
    "    print(\"Weak\")\n",
    "elif 8 <= len(user_input) <= 12: \n",
    "    print(\"Medium\")\n",
    "elif len(user_input) > 12:\n",
    "    print(\"Strong\")\n",
    "else:\n",
    "    print(\"Password is not valid. Please try again.\")\n"
   ]
  },
  {
   "cell_type": "markdown",
   "id": "2a67702e",
   "metadata": {},
   "source": [
    "Problem: Tip Calculator\n",
    "\n",
    "Build a program that calculates the tip amount based on the total bill and service quality. Prompt the user to input the total bill and service quality (good, average, or poor), then calculate and print the tip amount."
   ]
  },
  {
   "cell_type": "code",
   "execution_count": 4,
   "id": "d805361f",
   "metadata": {},
   "outputs": [
    {
     "name": "stdout",
     "output_type": "stream",
     "text": [
      "enter your total bill 7000\n",
      "Your total bill is 7000 please give review about service :\n",
      "please Enter service quality :average\n",
      "congras your tip amount is :77\n"
     ]
    }
   ],
   "source": [
    "bill  = int(input(\"enter your total bill \"))\n",
    "\n",
    "print(f\"Your total bill is {bill} please give review about service :\")\n",
    "\n",
    "service1 = \"good\" \n",
    "service2  =\"average\" \n",
    "service3 = \"poor\" \n",
    "\n",
    "service_quality = input (\"please Enter service quality :\")\n",
    "\n",
    "if service_quality ==service1:\n",
    "    tip = bill // 80\n",
    "    print(f\"congras your tip amount is :{tip}\")\n",
    "elif service_quality ==service2:\n",
    "    tip = bill // 90\n",
    "    print(f\"congras your tip amount is :{tip}\")\n",
    "elif service_quality ==service3:\n",
    "    tip = bill // 95\n",
    "    print(f\"congras your tip amount is :{tip}\")\n",
    "else :\n",
    "    print (\"Invaild service quality , please enter the corract service Quality \")"
   ]
  },
  {
   "cell_type": "markdown",
   "id": "eb150be1",
   "metadata": {},
   "source": [
    "Problem: Rock, Paper, Scissors Game\n",
    "\n",
    "Create a simple rock, paper, scissors game where the user can input their choice, and the computer randomly selects its choice. Determine the winner based on the game rules.\n",
    "\n",
    "if user_action == computer_action:\n",
    "    print(f\"Both players selected {user_action}. It's a tie!\")\n",
    "elif user_action == \"rock\":\n",
    "    if computer_action == \"scissors\":\n",
    "        print(\"Rock smashes scissors! You win!\")\n",
    "    else:\n",
    "        print(\"Paper covers rock! You lose.\")\n",
    "elif user_action == \"paper\":\n",
    "    if computer_action == \"rock\":\n",
    "        print(\"Paper covers rock! You win!\")\n",
    "    else:\n",
    "        print(\"Scissors cuts paper! You lose.\")\n",
    "elif user_action == \"scissors\":\n",
    "    if computer_action == \"paper\":\n",
    "        print(\"Scissors cuts paper! You win!\")\n",
    "    else:\n",
    "        print(\"Rock smashes scissors! You lose.\")"
   ]
  },
  {
   "cell_type": "code",
   "execution_count": 20,
   "id": "30db4335",
   "metadata": {},
   "outputs": [
    {
     "name": "stdout",
     "output_type": "stream",
     "text": [
      "Enter your choice: Rock\n",
      "Computer's choice: Scissors\n",
      "You won!\n"
     ]
    }
   ],
   "source": [
    "import random\n",
    "\n",
    "user_input = input(\"Enter your choice: \")\n",
    "possible_choices = [\"Rock\", \"Paper\", \"Scissors\"]\n",
    "computer_choice = random.choice(possible_choices)\n",
    "\n",
    "print(f\"Computer's choice: {computer_choice}\")\n",
    "\n",
    "if user_input == computer_choice:\n",
    "    print(f\"Both players chose {user_input}, it's a tie.\")\n",
    "elif user_input == \"Rock\":\n",
    "    if computer_choice == \"Scissors\":\n",
    "        print(\"You won!\")\n",
    "    else:\n",
    "        print(\"You lose.\")\n",
    "elif user_input == \"Paper\":\n",
    "    if computer_choice == \"Rock\":\n",
    "        print(\"You won!\")\n",
    "    else:\n",
    "        print(\"You lose.\")\n",
    "elif user_input == \"Scissors\":\n",
    "    if computer_choice == \"Paper\":\n",
    "        print(\"You won!\")\n",
    "    else:\n",
    "        print(\"You lose.\")\n",
    "else:\n",
    "    print(\"Invalid choice. Please choose Rock, Paper, or Scissors.\")\n"
   ]
  },
  {
   "cell_type": "markdown",
   "id": "174f511e",
   "metadata": {},
   "source": [
    "Problem: Bank Account Management\n",
    "\n",
    "Create a simple bank account management system. Ask the user for their current balance and the type of transaction (deposit or withdrawal). Update the balance accordingly and display the new balance."
   ]
  },
  {
   "cell_type": "code",
   "execution_count": 1,
   "id": "0cba9897",
   "metadata": {},
   "outputs": [
    {
     "name": "stdout",
     "output_type": "stream",
     "text": [
      "Enter your current balance :20000\n",
      "enter your Transaction type : deposit\n",
      "Enter your deposit balance 30000\n",
      "Now your Current Balance is 50000.0\n"
     ]
    }
   ],
   "source": [
    "current_balance = float(input (\"Enter your current balance :\"))\n",
    "transaction_type = input(\"enter your Transaction type : \")\n",
    "\n",
    "if transaction_type == \"deposit\":\n",
    "    amount  = int(input(\"Enter your deposit balance \"))\n",
    "    amount1 = current_balance + amount\n",
    "    print (f\"Now your Current Balance is {amount1}\")\n",
    "elif transaction_type ==\"withdrawal\" :\n",
    "    amount = int(input(\"Enter your withdrawal balance\"))\n",
    "    if amount>current_balance:\n",
    "        print(\"invaild amount \")\n",
    "    else:\n",
    "        amount2 = current_balance - amount \n",
    "        print(\"After withdrawal your balance \", amount2)\n",
    "else:\n",
    "    print (\"please choese the correct formate \")"
   ]
  },
  {
   "cell_type": "markdown",
   "id": "f9b95dd8",
   "metadata": {},
   "source": [
    "Problem: Movie Ticket Price Calculator\n",
    "\n",
    "Build a program that calculates the total cost of movie tickets based on the user's age and the time of the movie. Apply discounts for children, seniors, and matinee shows."
   ]
  },
  {
   "cell_type": "code",
   "execution_count": 17,
   "id": "c0e0c8c3",
   "metadata": {},
   "outputs": [
    {
     "name": "stdout",
     "output_type": "stream",
     "text": [
      "Welcome to Movie Hub\n",
      "Please Enter your age for confirmation: 111\n",
      "Enter the valid age \n"
     ]
    }
   ],
   "source": [
    "print(\"Welcome to Movie Hub\")\n",
    "\n",
    "age = int(input(\"Please Enter your age for confirmation: \"))\n",
    "\n",
    "ticket_price = 100\n",
    "\n",
    "if age < 10:\n",
    "    update_price = ticket_price * 0.2\n",
    "    print(\"You are a child, so your ticket price is \", update_price)\n",
    "\n",
    "elif 10 <= age <= 18:  \n",
    "    update_price = ticket_price * 0.1\n",
    "    print(\"You are a teenager, so your ticket price is \", update_price)\n",
    "\n",
    "elif 18 < age <= 50:  \n",
    "    print(\"You are a young adult, so your ticket price is \", ticket_price)\n",
    "\n",
    "elif 50 < age <= 100: \n",
    "    update_price = ticket_price * 0.12\n",
    "    print(\"You are a senior, so your ticket price is \", update_price)\n",
    "    \n",
    "else :\n",
    "    print(\"\")\n"
   ]
  }
 ],
 "metadata": {
  "kernelspec": {
   "display_name": "Python 3 (ipykernel)",
   "language": "python",
   "name": "python3"
  },
  "language_info": {
   "codemirror_mode": {
    "name": "ipython",
    "version": 3
   },
   "file_extension": ".py",
   "mimetype": "text/x-python",
   "name": "python",
   "nbconvert_exporter": "python",
   "pygments_lexer": "ipython3",
   "version": "3.11.5"
  }
 },
 "nbformat": 4,
 "nbformat_minor": 5
}
